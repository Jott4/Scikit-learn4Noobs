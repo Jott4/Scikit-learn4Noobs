{
 "cells": [
  {
   "cell_type": "markdown",
   "metadata": {},
   "source": [
    "# Ahoy!\n",
    "## Olá e seja muito bem vendo ao tutorial de scikit-learn\n",
    "- O que é o scikit-learn?\n",
    "> Biblioteca python open-scource para fazer machine learning\n",
    "- O que é machine learning\n",
    "> Exemplo: Gerar modelos que analisam dados amplos e complexos de forma automática para entregar resultados precisos em grande escala"
   ]
  },
  {
   "cell_type": "markdown",
   "metadata": {},
   "source": [
    "# Instalação\n",
    "<p>Há duas formas de instalar o scikit-learn, pelo pip e pelo conda, o conda cria um ambiente virtual em sua maquina, por isso, acho ele uma melhor opção<p/>\n",
    "<br>\n",
    "**Requisitos**<br>\n",
    "- Python\n",
    "\n",
    "*****\n",
    "## Windows\n",
    "### PIP\n",
    "1. Instale o python 3 [Aqui] (https://www.python.org/downloads/)\n",
    "\n",
    "2. Abra seu terminal e digite\n",
    "```\n",
    "pip install -U scikit-learn\n",
    "```\n",
    "3. Pronto, você já tem o sklearn :)\n",
    "\n",
    "4. Recomendo instalar outros pacotes como o \n",
    "> numPy(trabalhar com matematica)<br>\n",
    "> pandas(trabalhar com tabelas)<br>\n",
    "> matplotlib(trabalhar com graficos)<br>\n",
    "\n",
    "### CONDA\n",
    "1. Instale o conda [Aqui](https://docs.conda.io/projects/conda/en/latest/user-guide/install/windows.html)\n",
    "2. em seu terminal\n",
    "```\n",
    "conda install scikit-learn\n",
    "```"
   ]
  },
  {
   "cell_type": "markdown",
   "metadata": {},
   "source": [
    "## Linux\n",
    "\n",
    "### Arch Linux\n",
    "```\n",
    "sudo pacman -S python-scikit-learn\n",
    "```\n",
    "### Debian / Ubuntu\n",
    "```\n",
    "sudo apt-get install python3-sklearn python3-sklearn-lib python3-sklearn-doc\n",
    "```\n",
    "### Fedora\n",
    "```\n",
    "sudo dnf install python3-scikit-learn\n",
    "```\n",
    "\n",
    "## CONDA\n",
    "1. Instale o conda [Aqui](https://docs.conda.io/projects/conda/en/latest/user-guide/install/windows.html)\n",
    "2. em seu terminal\n",
    "```\n",
    "conda install scikit-learn\n",
    "```"
   ]
  },
  {
   "cell_type": "markdown",
   "metadata": {},
   "source": [
    "# Mãos a obra \n",
    "<br>\n",
    "\n",
    "## Aprendizado supervisionado\n",
    "Você fala pra máquina o que são caracteristicas de um modelo e o que ela tem que prever (isso irá ficar mais claro nos exemplos)\n",
    "\n",
    "## Aprendizado não supervisionado\n",
    "É como jogar um monte de saquinhos pra cima e dividí-los por onde cada um caiu\n",
    "\n"
   ]
  },
  {
   "cell_type": "markdown",
   "metadata": {},
   "source": [
    "# Problemas de Classificação\n",
    "São problemas onde o output (resultado) será binário, por exemplo, X pessoa sobreviveu ou não ao titanic, dado n caracteristicas sobre ela\n",
    "# Problemas de Regressão\n",
    "São problemas onde o output é um valor, exemplo, dado n caracteristicas sobre uma casa, quanto ela vale?\n"
   ]
  },
  {
   "cell_type": "markdown",
   "metadata": {},
   "source": [
    "# Aprendizado Supervisionado\n",
    "\n",
    "## Modelos Lineares\n",
    "São, geralmente regressões (ax + b), na qual o valor procurado é linear aos outros valores\n",
    "\n",
    "\n",
    "### **Exemplo**\n",
    "\n",
    "Tenho um grafico com 10 apartamentos, o gráfico me diz que, a cada quarto, o valor do apartamento sobe em 2000 dolares, sabendo que o valor de um apartamento com 2 quartos é 15000 dolares, qual será o valor do mesmo apartamento se ele tiver 3 quartos? <br>\n",
    "\n",
    "\n",
    "**Problema que pode ser solucionado com modelo linear**\n",
    "\n",
    "- caracteristica(X): n de quartos\n",
    "- predição(y): valor do Apartamento"
   ]
  },
  {
   "cell_type": "code",
   "execution_count": 1,
   "metadata": {},
   "outputs": [
    {
     "name": "stdout",
     "output_type": "stream",
     "text": [
      "Coefficients: \n",
      " [938.23786125]\n",
      "Mean squared error: 2548.07\n",
      "Coefficient of determination: 0.47\n",
      "erro medio quadrado 2548.07\n"
     ]
    }
   ],
   "source": [
    "# Minimo Quadrados ordinários\n",
    "import matplotlib.pyplot as plt #plot de gráficos\n",
    "import numpy as np # matematicas\n",
    "from sklearn import datasets #datasets de exemplo\n",
    "from sklearn import linear_model #modelos lineares\n",
    "from sklearn.metrics import mean_squared_error, r2_score #metricas de acertividade do modelo\n",
    "\n",
    "#Atribuo a duas variaveis o dataset\n",
    "diabetes_X, diabetes_y = datasets.load_diabetes(return_X_y=True)\n",
    "\n",
    "# iremos usar apenas uma caracteristica (apenas um X)\n",
    "diabetes_X = diabetes_X[:, np.newaxis, 2]\n",
    "\n",
    "# Divide as caracteristicas entre treino e teste\n",
    "diabetes_X_train = diabetes_X[:-20]\n",
    "diabetes_X_test = diabetes_X[-20:]\n",
    "\n",
    "# Split os resultados em treino e teste\n",
    "diabetes_y_train = diabetes_y[:-20]\n",
    "diabetes_y_test = diabetes_y[-20:]\n",
    "\n",
    "#instancio a regressão\n",
    "regr = linear_model.LinearRegression()\n",
    "\n",
    "#Treino o modelo usando os sets de treino\n",
    "regr.fit(diabetes_X_train, diabetes_y_train)\n",
    "\n",
    "#Faço predições utilizando os dados de teste\n",
    "diabetes_y_pred = regr.predict(diabetes_X_test)\n",
    "\n",
    "#Coeficientes\n",
    "print('Coefficients: \\n', regr.coef_)\n",
    "#erro médio quadrado\n",
    "print('Mean squared error: %.2f'\n",
    "      % mean_squared_error(diabetes_y_test, diabetes_y_pred))\n",
    "# Coeficiente de determinação, 1 == predição perfeita\n",
    "print('Coefficient of determination: %.2f'\n",
    "      % r2_score(diabetes_y_test, diabetes_y_pred))\n",
    "\n",
    "#o que é erro medio quadrado\n",
    "acc = []\n",
    "for i in range(len(diabetes_y_pred)):\n",
    "    variance = (diabetes_y_pred[i] - diabetes_y_test[i])**2\n",
    "    #variancia = predição - valor real ^2\n",
    "    #por que elevar ao quadrado? --> pros valores não ficarem negativos\n",
    "    acc.append(variance)      \n",
    "print('erro medio quadrado', round(sum(acc)/len(acc),2)) #erro médio quadrado"
   ]
  },
  {
   "cell_type": "code",
   "execution_count": 2,
   "metadata": {},
   "outputs": [
    {
     "data": {
      "image/png": "[encoded data removed]",
      "text/plain": [
       "<Figure size 432x288 with 1 Axes>"
      ]
     },
     "metadata": {},
     "output_type": "display_data"
    }
   ],
   "source": [
    "# Gráfico\n",
    "plt.scatter(diabetes_X_test, diabetes_y_test,  color='black')\n",
    "plt.plot(diabetes_X_test, diabetes_y_pred, color='blue', linewidth=3)\n",
    "\n",
    "plt.xticks(())\n",
    "plt.yticks(())\n",
    "\n",
    "plt.show()"
   ]
  },
  {
   "cell_type": "markdown",
   "metadata": {},
   "source": [
    "## Árvores de decisão\n",
    "![uma arvorezes de decizones](https://web.tecnico.ulisboa.pt/ana.freitas/bioinformatics.ath.cx/bioinformatics.ath.cx/uploads/RTEmagicC_arv_dec4_01.gif.gif)\n",
    "Arvores de decisão são diversas condições que levam a uma decisão"
   ]
  },
  {
   "cell_type": "code",
   "execution_count": 19,
   "metadata": {
    "scrolled": true
   },
   "outputs": [
    {
     "name": "stdout",
     "output_type": "stream",
     "text": [
      "accuracy:  96.43 %\n"
     ]
    }
   ],
   "source": [
    "import matplotlib.pyplot as plt # plots\n",
    "import pandas as pd # datasets\n",
    "from sklearn.tree import DecisionTreeClassifier # modelo\n",
    "from sklearn.tree import plot_tree # plots\n",
    "from sklearn.model_selection import train_test_split #divisão\n",
    "#dataframe de exemplo\n",
    "df = pd.read_csv('https://gist.githubusercontent.com/curran/a08a1080b88344b0c8a7/raw/639388c2cbc2120a14dcf466e85730eb8be498bb/iris.csv')\n",
    "\n",
    "#Separei os dados\n",
    "X = df.drop(['species'],1)\n",
    "y = df['species']\n",
    "\n",
    "#dividi os dados em treino e test\n",
    "X_test,X_train,y_test,y_train = train_test_split(X,y) \n",
    "\n",
    "\n",
    "clf = DecisionTreeClassifier()\n",
    "clf.fit(X_train,y_train) #treino\n",
    "predict = clf.predict(X_test) #test\n",
    "\n",
    "aux = 0\n",
    "for i,j in enumerate(y_test):\n",
    "    if j == predict[i]:\n",
    "       aux = aux + 1\n",
    "print('accuracy: ',round(aux / len(y_test)*100,2),'%')\n"
   ]
  },
  {
   "cell_type": "markdown",
   "metadata": {},
   "source": [
    "Nossa árvore de decisão ![alt](https://i.imgur.com/BBOMFDh.png)"
   ]
  },
  {
   "cell_type": "code",
   "execution_count": null,
   "metadata": {},
   "outputs": [],
   "source": []
  }
 ],
 "metadata": {
  "kernelspec": {
   "display_name": "Python 3.7.6 64-bit ('base': conda)",
   "language": "python",
   "name": "python37664bitbaseconda806f6865c0734de594fe964f1cc9d121"
  },
  "language_info": {
   "codemirror_mode": {
    "name": "ipython",
    "version": 3
   },
   "file_extension": ".py",
   "mimetype": "text/x-python",
   "name": "python",
   "nbconvert_exporter": "python",
   "pygments_lexer": "ipython3",
   "version": "3.7.6"
  }
 },
 "nbformat": 4,
 "nbformat_minor": 4
}
